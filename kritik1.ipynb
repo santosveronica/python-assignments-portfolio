{
 "cells": [
  {
   "cell_type": "code",
   "execution_count": 17,
   "id": "ce0b64ca-0822-4b08-9a06-e705f5361153",
   "metadata": {},
   "outputs": [
    {
     "name": "stdin",
     "output_type": "stream",
     "text": [
      "a:  5\n",
      "b:  7\n"
     ]
    },
    {
     "name": "stdout",
     "output_type": "stream",
     "text": [
      "Invalid interval\n",
      "Root for f(x) = log(cos(x)) None\n"
     ]
    }
   ],
   "source": [
    "import math\n",
    "\n",
    "def func(f, a, b):\n",
    "    if f(a) * f(b) >= 0:\n",
    "        print(\"Invalid interval\")\n",
    "        return None\n",
    "    while b - a >= 0.000000001:\n",
    "        m = (a + b) / 2\n",
    "        if f(a) * f(m) < 0:\n",
    "            b = m\n",
    "        else:\n",
    "            a = m\n",
    "    return round((a + b) / 2, 10)\n",
    "\n",
    "def f(x):\n",
    "    if x == 0:\n",
    "        x = x + 0.0000000001\n",
    "    return math.log(math.cos(x))\n",
    "    \n",
    "a = float(input(\"a: \"))\n",
    "b = float(input(\"b: \"))\n",
    "\n",
    "print(\"Root for f(x) = log(cos(x))\", func(f, a, b))\n"
   ]
  },
  {
   "cell_type": "code",
   "execution_count": null,
   "id": "d5d4d003-1bb6-452b-ad0f-3c75a04c4f23",
   "metadata": {},
   "outputs": [],
   "source": []
  }
 ],
 "metadata": {
  "kernelspec": {
   "display_name": "Python 3 (ipykernel)",
   "language": "python",
   "name": "python3"
  },
  "language_info": {
   "codemirror_mode": {
    "name": "ipython",
    "version": 3
   },
   "file_extension": ".py",
   "mimetype": "text/x-python",
   "name": "python",
   "nbconvert_exporter": "python",
   "pygments_lexer": "ipython3",
   "version": "3.11.4"
  }
 },
 "nbformat": 4,
 "nbformat_minor": 5
}
