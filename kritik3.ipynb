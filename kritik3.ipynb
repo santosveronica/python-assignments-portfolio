{
 "cells": [
  {
   "cell_type": "code",
   "execution_count": null,
   "id": "1d72cfda-b339-4532-ac07-ac0ae9fbdbe5",
   "metadata": {},
   "outputs": [],
   "source": [
    "def f(x):\n",
    "    return x**2\n",
    "\n",
    "c = 1\n",
    "E = 0.1\n",
    "\n",
    "n = 100\n",
    "x1 = c\n",
    "x2 = c\n",
    "delx = 10**(-8)\n",
    "d = 0.001\n",
    "\n",
    "def fPrime(x):\n",
    "    return (f(x + delx) - f(x - delx))/(2 * delx)\n",
    "\n",
    "def L(x):\n",
    "    return f(c) + fPrime(c) * (x-c)\n",
    "\n",
    "#find x1\n",
    "for i in range(n):\n",
    "    x1 -= d\n",
    "    if abs (f(x1) - L(x1)) <= E:\n",
    "        print (\"x1 solution:\" , x1)\n",
    "        break\n",
    "\n",
    "else:\n",
    "    print (\"No x1 solution can be found!\")\n",
    "\n"
   ]
  }
 ],
 "metadata": {
  "kernelspec": {
   "display_name": "Python 3 (ipykernel)",
   "language": "python",
   "name": "python3"
  },
  "language_info": {
   "codemirror_mode": {
    "name": "ipython",
    "version": 3
   },
   "file_extension": ".py",
   "mimetype": "text/x-python",
   "name": "python",
   "nbconvert_exporter": "python",
   "pygments_lexer": "ipython3",
   "version": "3.11.4"
  }
 },
 "nbformat": 4,
 "nbformat_minor": 5
}
