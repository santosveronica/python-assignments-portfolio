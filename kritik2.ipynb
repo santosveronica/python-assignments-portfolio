{
 "cells": [
  {
   "cell_type": "code",
   "execution_count": 2,
   "id": "19c5f41d-cc20-47af-943b-b8ee3d89ccb2",
   "metadata": {},
   "outputs": [
    {
     "ename": "NameError",
     "evalue": "name 'x' is not defined",
     "output_type": "error",
     "traceback": [
      "\u001b[0;31m---------------------------------------------------------------------------\u001b[0m",
      "\u001b[0;31mNameError\u001b[0m                                 Traceback (most recent call last)",
      "Cell \u001b[0;32mIn[2], line 26\u001b[0m\n\u001b[1;32m     23\u001b[0m \u001b[38;5;28;01mdef\u001b[39;00m \u001b[38;5;21mf\u001b[39m(x):\n\u001b[1;32m     24\u001b[0m     \u001b[38;5;28;01mreturn\u001b[39;00m x\u001b[38;5;241m*\u001b[39m\u001b[38;5;241m*\u001b[39m\u001b[38;5;241m2\u001b[39m\n\u001b[0;32m---> 26\u001b[0m \u001b[38;5;28mprint\u001b[39m(nate(\u001b[43mx\u001b[49m,\u001b[38;5;241m2\u001b[39m,\u001b[38;5;241m00.01\u001b[39m))\n",
      "\u001b[0;31mNameError\u001b[0m: name 'x' is not defined"
     ]
    }
   ],
   "source": [
    "def nate(f,c,E):\n",
    "    n=100\n",
    "    x1=c\n",
    "    x2=c\n",
    "    delx=10**(-8)\n",
    "    d=0.001\n",
    "    def fPrime(x):\n",
    "        return (f(x+delx)-f(x-delx))/(2*delx)\n",
    "    def L(x):\n",
    "        return f(c)+fPrime(c)*(x-c)\n",
    "    for i in range(n):\n",
    "        x1-=d\n",
    "        if abs(f(x1)-L(x1)) == E:\n",
    "            return x1\n",
    "        else:\n",
    "            return \"No such x1 can be found!\"\n",
    "    for i in range(n):\n",
    "        x2+=d\n",
    "        if abs(f(x2)-L(x2)) == E:  \n",
    "            return x2\n",
    "        else:\n",
    "            return \"No such x2 can be found!\"\n",
    "def f(x):\n",
    "    return x**2\n",
    "\n",
    "print(nate(x,2,00.01))"
   ]
  },
  {
   "cell_type": "code",
   "execution_count": 12,
   "id": "06aa0758-72de-4a86-bd50-29a2c0785b43",
   "metadata": {
    "scrolled": true
   },
   "outputs": [
    {
     "name": "stdout",
     "output_type": "stream",
     "text": [
      "0.999\n",
      "0.999\n",
      "1.001\n",
      "1.001\n"
     ]
    }
   ],
   "source": [
    "def f(x):\n",
    "    return x**2\n",
    "c=1\n",
    "E=0.1\n",
    "    \n",
    "n=100\n",
    "x1=c\n",
    "x2=c\n",
    "delx=10**(-8)\n",
    "d=0.001\n",
    "def fPrime(x):\n",
    "    return (f(x+delx)-f(x-delx))/(2*delx)\n",
    "def L(x):\n",
    "    return f(c)+fPrime(c)*(x-c)\n",
    "\n",
    "for i in range(n):\n",
    "    x1-=d\n",
    "    if abs(f(x1)-L(x1)) <= E:\n",
    "        print(x1)\n",
    "        break\n",
    "if abs(f(x1)-L(x1)) <= E:\n",
    "    print(x1)\n",
    "else:\n",
    "    print(\"No such x1 can be found!\")\n",
    "    \n",
    "for i in range(n):\n",
    "    x2+=d\n",
    "    if abs(f(x2)-L(x2)) <= E:  \n",
    "        print(x2)\n",
    "        break\n",
    "if abs(f(x2)-L(x2)) <= E:\n",
    "    print(x2)\n",
    "else:\n",
    "    print(\"No such x2 can be found!\")\n",
    "        "
   ]
  },
  {
   "cell_type": "code",
   "execution_count": 5,
   "id": "be03c7a3-7d44-48c6-9f0b-495c9c51558e",
   "metadata": {},
   "outputs": [
    {
     "name": "stdout",
     "output_type": "stream",
     "text": [
      "x1 Solution: 0.7843981633974483\n",
      "x2 Solution: 0.7863981633974483\n"
     ]
    }
   ],
   "source": [
    "import math\n",
    "def f(x):\n",
    "    return math.e**(x)\n",
    "c = math.pi/4\n",
    "E = 0.05\n",
    "\n",
    "n = 100\n",
    "x1 = c\n",
    "x2 = c\n",
    "delx = 10**(-8)\n",
    "d = 0.001\n",
    "\n",
    "def fPrime(x):\n",
    "    return (f(x + delx) - f(x - delx)) / (2 * delx)\n",
    "\n",
    "def L(x):\n",
    "    return f(c) + fPrime(c) * (x - c)\n",
    "\n",
    "# Find x1\n",
    "for i in range(n):\n",
    "    x1 -= d\n",
    "    if abs(f(x1) - L(x1)) <= E:\n",
    "        print(\"x1 Solution:\", x1)\n",
    "        break\n",
    "else:\n",
    "    print(\"No x1 solution can be found!\")\n",
    "\n",
    "# Find x2\n",
    "for i in range(n):\n",
    "    x2 += d\n",
    "    if abs(f(x2) - L(x2)) <= E:\n",
    "        print(\"x2 Solution:\", x2)\n",
    "        break\n",
    "else:\n",
    "    print(\"No x2 solution can be found!\")\n"
   ]
  },
  {
   "cell_type": "code",
   "execution_count": null,
   "id": "c82ceb79-20dc-4221-885c-94eb2bef43b4",
   "metadata": {},
   "outputs": [],
   "source": []
  }
 ],
 "metadata": {
  "kernelspec": {
   "display_name": "Python 3 (ipykernel)",
   "language": "python",
   "name": "python3"
  },
  "language_info": {
   "codemirror_mode": {
    "name": "ipython",
    "version": 3
   },
   "file_extension": ".py",
   "mimetype": "text/x-python",
   "name": "python",
   "nbconvert_exporter": "python",
   "pygments_lexer": "ipython3",
   "version": "3.11.4"
  }
 },
 "nbformat": 4,
 "nbformat_minor": 5
}
