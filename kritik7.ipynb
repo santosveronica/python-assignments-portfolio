{
 "cells": [
  {
   "cell_type": "code",
   "execution_count": 30,
   "id": "6d3f7a66-902f-450c-a0da-13da416e5e58",
   "metadata": {},
   "outputs": [
    {
     "data": {
      "text/plain": [
       "2.2522252225222523"
      ]
     },
     "execution_count": 30,
     "metadata": {},
     "output_type": "execute_result"
    }
   ],
   "source": [
    "#code for tstar\n",
    "def find_tstar_adapted(prob, nu, x_start=0, x_end=20, num_points=10000):\n",
    "    \"\"\"\n",
    "    Adapted version of find_t_star to include the necessary density function\n",
    "    and to compute t* for a given cumulative probability and degrees of freedom.\n",
    "    \"\"\"\n",
    "    # Define the x values\n",
    "    x = np.linspace(x_start, x_end, num_points)\n",
    "    \n",
    "    # Apply the density function to the x values\n",
    "    y = t_distribution_pdf(x, df)\n",
    "    \n",
    "    # Integration (why does this work?): Summation of y*dx approximates the area under the curve\n",
    "    cdf = np.cumsum(y) * (x[1] - x[0])\n",
    "    \n",
    "    # Find the t-value where the cumulative probability reaches the target\n",
    "    target_half_prob = prob / 2\n",
    "    index = np.where(cdf >= target_half_prob)[0][0]\n",
    "    return x[index]\n",
    "\n",
    "# find t* for the sample size with certainty 0.95\n",
    "# degrees of freedom (df) is sample size minus 1\n",
    "df = len(test_scores) - 1\n",
    "prob = 0.95  # Target \n",
    "\n",
    "# find t*\n",
    "t_star= find_t_star_adapted(prob, nu)\n",
    "\n",
    "t_star"
   ]
  },
  {
   "cell_type": "code",
   "execution_count": 28,
   "id": "6689a211-7bf5-4314-8d91-b074e5798139",
   "metadata": {},
   "outputs": [
    {
     "data": {
      "text/plain": [
       "(82.382, 10.193467189005581, 2.290087686017293, False)"
      ]
     },
     "execution_count": 28,
     "metadata": {},
     "output_type": "execute_result"
    }
   ],
   "source": [
    "# code to determine if within national average\n",
    "\n",
    "def calculate_mean_std(data):\n",
    "    n = len(data)\n",
    "    mean = sum(data) / n\n",
    "    variance = sum((x - mean) ** 2 for x in data) / (n - 1)\n",
    "    std_dev = variance ** 0.5\n",
    "\n",
    "    return mean, std_dev\n",
    "\n",
    "def compute_t0(mean, std_dev, sample_size, u0=75):\n",
    "    t0 = (mean - u0) / (std_dev / (sample_size ** 0.5))\n",
    "    return t0\n",
    "\n",
    "def inrange(t0, t_star):\n",
    "    return abs(t0) <= t_star\n",
    "\n",
    "# test data\n",
    "testscores = [92.64,79.00,84.79,97.41,93.68,65.23,84.50,73.49,73.97,79.11]\n",
    "\n",
    "# find t0\n",
    "t0 = compute_t0(mean, std_dev, sample_size)\n",
    "\n",
    "# find t* using previously defined find_t_star function\n",
    "df = sample_size - 1  # degrees of freedom\n",
    "tstar = find_tstar_adapted(0.95, df)\n",
    "\n",
    "# Check if t0 is within the range [-t*, t*]\n",
    "answer = inrange(t0, tstar)\n",
    "\n",
    "# Calculate mean and standard deviation\n",
    "mean, std_dev = calculate_mean_std(testscores)\n",
    "\n",
    "(mean, std_dev, t0, answer)\n"
   ]
  },
  {
   "cell_type": "code",
   "execution_count": null,
   "id": "77c5d920-d16b-446e-bf3b-f8c746b1bd9f",
   "metadata": {},
   "outputs": [],
   "source": []
  }
 ],
 "metadata": {
  "kernelspec": {
   "display_name": "Python 3 (ipykernel)",
   "language": "python",
   "name": "python3"
  },
  "language_info": {
   "codemirror_mode": {
    "name": "ipython",
    "version": 3
   },
   "file_extension": ".py",
   "mimetype": "text/x-python",
   "name": "python",
   "nbconvert_exporter": "python",
   "pygments_lexer": "ipython3",
   "version": "3.11.4"
  }
 },
 "nbformat": 4,
 "nbformat_minor": 5
}
